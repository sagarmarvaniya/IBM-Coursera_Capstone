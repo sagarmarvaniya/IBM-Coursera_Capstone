{
    "cells": [
        {
            "cell_type": "code",
            "execution_count": 71,
            "metadata": {},
            "outputs": [],
            "source": "import pandas as pd\nimport numpy as np\nimport requests\nfrom bs4 import BeautifulSoup\nimport os\nfrom sklearn.cluster import KMeans\nfrom geopy.geocoders import Nominatim \nimport matplotlib.cm as cm\nimport matplotlib.colors as colors"
        },
        {
            "cell_type": "code",
            "execution_count": 3,
            "metadata": {},
            "outputs": [],
            "source": "List_url = \"https://en.wikipedia.org/wiki/List_of_postal_codes_of_Canada:_M\"\nsource = requests.get(List_url).text"
        },
        {
            "cell_type": "code",
            "execution_count": 4,
            "metadata": {},
            "outputs": [],
            "source": "soup = BeautifulSoup(source, 'xml')"
        },
        {
            "cell_type": "code",
            "execution_count": 5,
            "metadata": {},
            "outputs": [],
            "source": "table=soup.find('table')"
        },
        {
            "cell_type": "code",
            "execution_count": 6,
            "metadata": {},
            "outputs": [],
            "source": "column_names=['Postalcode','Borough','Neighbourhood']\ndf = pd.DataFrame(columns=column_names)"
        },
        {
            "cell_type": "code",
            "execution_count": 7,
            "metadata": {},
            "outputs": [],
            "source": "for tr_cell in table.find_all('tr'):\n    row_data=[]\n    for td_cell in tr_cell.find_all('td'):\n        row_data.append(td_cell.text.strip())\n    if len(row_data)==3:\n        df.loc[len(df)] = row_data"
        },
        {
            "cell_type": "code",
            "execution_count": 8,
            "metadata": {},
            "outputs": [
                {
                    "data": {
                        "text/html": "<div>\n<style scoped>\n    .dataframe tbody tr th:only-of-type {\n        vertical-align: middle;\n    }\n\n    .dataframe tbody tr th {\n        vertical-align: top;\n    }\n\n    .dataframe thead th {\n        text-align: right;\n    }\n</style>\n<table border=\"1\" class=\"dataframe\">\n  <thead>\n    <tr style=\"text-align: right;\">\n      <th></th>\n      <th>Postalcode</th>\n      <th>Borough</th>\n      <th>Neighbourhood</th>\n    </tr>\n  </thead>\n  <tbody>\n    <tr>\n      <th>0</th>\n      <td>M1A</td>\n      <td>Not assigned</td>\n      <td>Not assigned</td>\n    </tr>\n    <tr>\n      <th>1</th>\n      <td>M2A</td>\n      <td>Not assigned</td>\n      <td>Not assigned</td>\n    </tr>\n    <tr>\n      <th>2</th>\n      <td>M3A</td>\n      <td>North York</td>\n      <td>Parkwoods</td>\n    </tr>\n    <tr>\n      <th>3</th>\n      <td>M4A</td>\n      <td>North York</td>\n      <td>Victoria Village</td>\n    </tr>\n    <tr>\n      <th>4</th>\n      <td>M5A</td>\n      <td>Downtown Toronto</td>\n      <td>Regent Park, Harbourfront</td>\n    </tr>\n  </tbody>\n</table>\n</div>",
                        "text/plain": "  Postalcode           Borough              Neighbourhood\n0        M1A      Not assigned               Not assigned\n1        M2A      Not assigned               Not assigned\n2        M3A        North York                  Parkwoods\n3        M4A        North York           Victoria Village\n4        M5A  Downtown Toronto  Regent Park, Harbourfront"
                    },
                    "execution_count": 8,
                    "metadata": {},
                    "output_type": "execute_result"
                }
            ],
            "source": "df.head()"
        },
        {
            "cell_type": "code",
            "execution_count": 9,
            "metadata": {},
            "outputs": [],
            "source": "df=df[df['Borough']!='Not assigned']"
        },
        {
            "cell_type": "code",
            "execution_count": 10,
            "metadata": {},
            "outputs": [],
            "source": "temp_df=df.groupby('Postalcode')['Neighbourhood'].apply(lambda x: \"%s\" % ', '.join(x))\ntemp_df=temp_df.reset_index(drop=False)\ntemp_df.rename(columns={'Neighbourhood':'Neighbourhood_joined'},inplace=True)"
        },
        {
            "cell_type": "code",
            "execution_count": 11,
            "metadata": {},
            "outputs": [],
            "source": "df_merge = pd.merge(df, temp_df, on='Postalcode')"
        },
        {
            "cell_type": "code",
            "execution_count": 12,
            "metadata": {},
            "outputs": [],
            "source": "df_merge.drop(['Neighbourhood'],axis=1,inplace=True)"
        },
        {
            "cell_type": "code",
            "execution_count": 14,
            "metadata": {},
            "outputs": [],
            "source": "df_merge.drop_duplicates(inplace=True)"
        },
        {
            "cell_type": "code",
            "execution_count": 15,
            "metadata": {},
            "outputs": [
                {
                    "data": {
                        "text/html": "<div>\n<style scoped>\n    .dataframe tbody tr th:only-of-type {\n        vertical-align: middle;\n    }\n\n    .dataframe tbody tr th {\n        vertical-align: top;\n    }\n\n    .dataframe thead th {\n        text-align: right;\n    }\n</style>\n<table border=\"1\" class=\"dataframe\">\n  <thead>\n    <tr style=\"text-align: right;\">\n      <th></th>\n      <th>Postalcode</th>\n      <th>Borough</th>\n      <th>Neighbourhood</th>\n    </tr>\n  </thead>\n  <tbody>\n    <tr>\n      <th>0</th>\n      <td>M3A</td>\n      <td>North York</td>\n      <td>Parkwoods</td>\n    </tr>\n    <tr>\n      <th>1</th>\n      <td>M4A</td>\n      <td>North York</td>\n      <td>Victoria Village</td>\n    </tr>\n    <tr>\n      <th>2</th>\n      <td>M5A</td>\n      <td>Downtown Toronto</td>\n      <td>Regent Park, Harbourfront</td>\n    </tr>\n    <tr>\n      <th>3</th>\n      <td>M6A</td>\n      <td>North York</td>\n      <td>Lawrence Manor, Lawrence Heights</td>\n    </tr>\n    <tr>\n      <th>4</th>\n      <td>M7A</td>\n      <td>Downtown Toronto</td>\n      <td>Queen's Park, Ontario Provincial Government</td>\n    </tr>\n  </tbody>\n</table>\n</div>",
                        "text/plain": "  Postalcode           Borough                                Neighbourhood\n0        M3A        North York                                    Parkwoods\n1        M4A        North York                             Victoria Village\n2        M5A  Downtown Toronto                    Regent Park, Harbourfront\n3        M6A        North York             Lawrence Manor, Lawrence Heights\n4        M7A  Downtown Toronto  Queen's Park, Ontario Provincial Government"
                    },
                    "execution_count": 15,
                    "metadata": {},
                    "output_type": "execute_result"
                }
            ],
            "source": "df_merge.rename(columns={'Neighbourhood_joined':'Neighbourhood'},inplace=True)\ndf_merge.head()"
        },
        {
            "cell_type": "code",
            "execution_count": 16,
            "metadata": {},
            "outputs": [
                {
                    "data": {
                        "text/plain": "(103, 3)"
                    },
                    "execution_count": 16,
                    "metadata": {},
                    "output_type": "execute_result"
                }
            ],
            "source": "df_merge.shape"
        },
        {
            "cell_type": "code",
            "execution_count": 17,
            "metadata": {},
            "outputs": [],
            "source": "def get_geocode(postal_code):\n    # initialize your variable to None\n    lat_lng_coords = None\n    while(lat_lng_coords is None):\n        g = geocoder.google('{}, Toronto, Ontario'.format(postal_code))\n        lat_lng_coords = g.latlng\n    latitude = lat_lng_coords[0]\n    longitude = lat_lng_coords[1]\n    return latitude,longitude"
        },
        {
            "cell_type": "code",
            "execution_count": 18,
            "metadata": {},
            "outputs": [],
            "source": "geo_df=pd.read_csv('http://cocl.us/Geospatial_data')"
        },
        {
            "cell_type": "code",
            "execution_count": 19,
            "metadata": {},
            "outputs": [
                {
                    "data": {
                        "text/html": "<div>\n<style scoped>\n    .dataframe tbody tr th:only-of-type {\n        vertical-align: middle;\n    }\n\n    .dataframe tbody tr th {\n        vertical-align: top;\n    }\n\n    .dataframe thead th {\n        text-align: right;\n    }\n</style>\n<table border=\"1\" class=\"dataframe\">\n  <thead>\n    <tr style=\"text-align: right;\">\n      <th></th>\n      <th>Postal Code</th>\n      <th>Latitude</th>\n      <th>Longitude</th>\n    </tr>\n  </thead>\n  <tbody>\n    <tr>\n      <th>0</th>\n      <td>M1B</td>\n      <td>43.806686</td>\n      <td>-79.194353</td>\n    </tr>\n    <tr>\n      <th>1</th>\n      <td>M1C</td>\n      <td>43.784535</td>\n      <td>-79.160497</td>\n    </tr>\n    <tr>\n      <th>2</th>\n      <td>M1E</td>\n      <td>43.763573</td>\n      <td>-79.188711</td>\n    </tr>\n    <tr>\n      <th>3</th>\n      <td>M1G</td>\n      <td>43.770992</td>\n      <td>-79.216917</td>\n    </tr>\n    <tr>\n      <th>4</th>\n      <td>M1H</td>\n      <td>43.773136</td>\n      <td>-79.239476</td>\n    </tr>\n  </tbody>\n</table>\n</div>",
                        "text/plain": "  Postal Code   Latitude  Longitude\n0         M1B  43.806686 -79.194353\n1         M1C  43.784535 -79.160497\n2         M1E  43.763573 -79.188711\n3         M1G  43.770992 -79.216917\n4         M1H  43.773136 -79.239476"
                    },
                    "execution_count": 19,
                    "metadata": {},
                    "output_type": "execute_result"
                }
            ],
            "source": "geo_df.head()"
        },
        {
            "cell_type": "code",
            "execution_count": 20,
            "metadata": {},
            "outputs": [],
            "source": "geo_df.rename(columns={'Postal Code':'Postalcode'},inplace=True)\ngeo_merged = pd.merge(geo_df, df_merge, on='Postalcode')"
        },
        {
            "cell_type": "code",
            "execution_count": 21,
            "metadata": {},
            "outputs": [],
            "source": "geo_data=geo_merged[['Postalcode','Borough','Neighbourhood','Latitude','Longitude']]"
        },
        {
            "cell_type": "code",
            "execution_count": 22,
            "metadata": {},
            "outputs": [
                {
                    "data": {
                        "text/html": "<div>\n<style scoped>\n    .dataframe tbody tr th:only-of-type {\n        vertical-align: middle;\n    }\n\n    .dataframe tbody tr th {\n        vertical-align: top;\n    }\n\n    .dataframe thead th {\n        text-align: right;\n    }\n</style>\n<table border=\"1\" class=\"dataframe\">\n  <thead>\n    <tr style=\"text-align: right;\">\n      <th></th>\n      <th>Postalcode</th>\n      <th>Borough</th>\n      <th>Neighbourhood</th>\n      <th>Latitude</th>\n      <th>Longitude</th>\n    </tr>\n  </thead>\n  <tbody>\n    <tr>\n      <th>0</th>\n      <td>M1B</td>\n      <td>Scarborough</td>\n      <td>Malvern, Rouge</td>\n      <td>43.806686</td>\n      <td>-79.194353</td>\n    </tr>\n    <tr>\n      <th>1</th>\n      <td>M1C</td>\n      <td>Scarborough</td>\n      <td>Rouge Hill, Port Union, Highland Creek</td>\n      <td>43.784535</td>\n      <td>-79.160497</td>\n    </tr>\n    <tr>\n      <th>2</th>\n      <td>M1E</td>\n      <td>Scarborough</td>\n      <td>Guildwood, Morningside, West Hill</td>\n      <td>43.763573</td>\n      <td>-79.188711</td>\n    </tr>\n    <tr>\n      <th>3</th>\n      <td>M1G</td>\n      <td>Scarborough</td>\n      <td>Woburn</td>\n      <td>43.770992</td>\n      <td>-79.216917</td>\n    </tr>\n    <tr>\n      <th>4</th>\n      <td>M1H</td>\n      <td>Scarborough</td>\n      <td>Cedarbrae</td>\n      <td>43.773136</td>\n      <td>-79.239476</td>\n    </tr>\n  </tbody>\n</table>\n</div>",
                        "text/plain": "  Postalcode      Borough                           Neighbourhood   Latitude  \\\n0        M1B  Scarborough                          Malvern, Rouge  43.806686   \n1        M1C  Scarborough  Rouge Hill, Port Union, Highland Creek  43.784535   \n2        M1E  Scarborough       Guildwood, Morningside, West Hill  43.763573   \n3        M1G  Scarborough                                  Woburn  43.770992   \n4        M1H  Scarborough                               Cedarbrae  43.773136   \n\n   Longitude  \n0 -79.194353  \n1 -79.160497  \n2 -79.188711  \n3 -79.216917  \n4 -79.239476  "
                    },
                    "execution_count": 22,
                    "metadata": {},
                    "output_type": "execute_result"
                }
            ],
            "source": "geo_data.head()"
        },
        {
            "cell_type": "code",
            "execution_count": 23,
            "metadata": {},
            "outputs": [
                {
                    "data": {
                        "text/plain": "(103, 5)"
                    },
                    "execution_count": 23,
                    "metadata": {},
                    "output_type": "execute_result"
                }
            ],
            "source": "geo_data.shape"
        },
        {
            "cell_type": "code",
            "execution_count": 24,
            "metadata": {},
            "outputs": [
                {
                    "data": {
                        "text/html": "<div>\n<style scoped>\n    .dataframe tbody tr th:only-of-type {\n        vertical-align: middle;\n    }\n\n    .dataframe tbody tr th {\n        vertical-align: top;\n    }\n\n    .dataframe thead th {\n        text-align: right;\n    }\n</style>\n<table border=\"1\" class=\"dataframe\">\n  <thead>\n    <tr style=\"text-align: right;\">\n      <th></th>\n      <th>Postalcode</th>\n      <th>Borough</th>\n      <th>Neighbourhood</th>\n      <th>Latitude</th>\n      <th>Longitude</th>\n    </tr>\n  </thead>\n  <tbody>\n    <tr>\n      <th>37</th>\n      <td>M4E</td>\n      <td>East Toronto</td>\n      <td>The Beaches</td>\n      <td>43.676357</td>\n      <td>-79.293031</td>\n    </tr>\n    <tr>\n      <th>41</th>\n      <td>M4K</td>\n      <td>East Toronto</td>\n      <td>The Danforth West, Riverdale</td>\n      <td>43.679557</td>\n      <td>-79.352188</td>\n    </tr>\n    <tr>\n      <th>42</th>\n      <td>M4L</td>\n      <td>East Toronto</td>\n      <td>India Bazaar, The Beaches West</td>\n      <td>43.668999</td>\n      <td>-79.315572</td>\n    </tr>\n    <tr>\n      <th>43</th>\n      <td>M4M</td>\n      <td>East Toronto</td>\n      <td>Studio District</td>\n      <td>43.659526</td>\n      <td>-79.340923</td>\n    </tr>\n    <tr>\n      <th>44</th>\n      <td>M4N</td>\n      <td>Central Toronto</td>\n      <td>Lawrence Park</td>\n      <td>43.728020</td>\n      <td>-79.388790</td>\n    </tr>\n  </tbody>\n</table>\n</div>",
                        "text/plain": "   Postalcode          Borough                   Neighbourhood   Latitude  \\\n37        M4E     East Toronto                     The Beaches  43.676357   \n41        M4K     East Toronto    The Danforth West, Riverdale  43.679557   \n42        M4L     East Toronto  India Bazaar, The Beaches West  43.668999   \n43        M4M     East Toronto                 Studio District  43.659526   \n44        M4N  Central Toronto                   Lawrence Park  43.728020   \n\n    Longitude  \n37 -79.293031  \n41 -79.352188  \n42 -79.315572  \n43 -79.340923  \n44 -79.388790  "
                    },
                    "execution_count": 24,
                    "metadata": {},
                    "output_type": "execute_result"
                }
            ],
            "source": "toronto_data=geo_data[geo_data['Borough'].str.contains(\"Toronto\")]\ntoronto_data.head()"
        },
        {
            "cell_type": "code",
            "execution_count": 25,
            "metadata": {},
            "outputs": [],
            "source": "CLIENT_ID = 'YRSBONQJ2QZDT4VZ5CKZGC3RNLF0DNPV5CYLERVANEB2EVK2' # your Foursquare ID\nCLIENT_SECRET = '0DIFGUGVMF3S4WLK4T1SV1D00KDH4VKQP5BWQRCI0HIH3QJO' # your Foursquare Secret\nVERSION = '20180604'"
        },
        {
            "cell_type": "code",
            "execution_count": 28,
            "metadata": {},
            "outputs": [],
            "source": "def getNearbyVenues(names, latitudes, longitudes):\n    radius=500\n    LIMIT=100\n    venues_list=[]\n    for name, lat, lng in zip(names, latitudes, longitudes):\n        print(name)\n            \n        # create the API request URL\n        url = 'https://api.foursquare.com/v2/venues/explore?&client_id={}&client_secret={}&v={}&ll={},{}&radius={}&limit={}'.format(\n            CLIENT_ID, \n            CLIENT_SECRET, \n            VERSION, \n            lat, \n            lng, \n            radius, \n            LIMIT)\n            \n        # make the GET request\n        results = requests.get(url).json()[\"response\"]['groups'][0]['items']\n        \n        # return only relevant information for each nearby venue\n        venues_list.append([(\n            name, \n            lat, \n            lng, \n            v['venue']['name'], \n            v['venue']['location']['lat'], \n            v['venue']['location']['lng'],  \n            v['venue']['categories'][0]['name']) for v in results])\n\n    nearby_venues = pd.DataFrame([item for venue_list in venues_list for item in venue_list])\n    nearby_venues.columns = ['Neighbourhood', \n                  'Neighbourhood Latitude', \n                  'Neighbourhood Longitude', \n                  'Venue', \n                  'Venue Latitude', \n                  'Venue Longitude', \n                  'Venue Category']\n    \n    return(nearby_venues)"
        },
        {
            "cell_type": "code",
            "execution_count": 29,
            "metadata": {},
            "outputs": [
                {
                    "name": "stdout",
                    "output_type": "stream",
                    "text": "The Beaches\nThe Danforth West, Riverdale\nIndia Bazaar, The Beaches West\nStudio District\nLawrence Park\nDavisville North\nNorth Toronto West,  Lawrence Park\nDavisville\nMoore Park, Summerhill East\nSummerhill West, Rathnelly, South Hill, Forest Hill SE, Deer Park\nRosedale\nSt. James Town, Cabbagetown\nChurch and Wellesley\nRegent Park, Harbourfront\nGarden District, Ryerson\nSt. James Town\nBerczy Park\nCentral Bay Street\nRichmond, Adelaide, King\nHarbourfront East, Union Station, Toronto Islands\nToronto Dominion Centre, Design Exchange\nCommerce Court, Victoria Hotel\nRoselawn\nForest Hill North & West, Forest Hill Road Park\nThe Annex, North Midtown, Yorkville\nUniversity of Toronto, Harbord\nKensington Market, Chinatown, Grange Park\nCN Tower, King and Spadina, Railway Lands, Harbourfront West, Bathurst Quay, South Niagara, Island airport\nStn A PO Boxes\nFirst Canadian Place, Underground city\nChristie\nDufferin, Dovercourt Village\nLittle Portugal, Trinity\nBrockton, Parkdale Village, Exhibition Place\nHigh Park, The Junction South\nParkdale, Roncesvalles\nRunnymede, Swansea\nQueen's Park, Ontario Provincial Government\nBusiness reply mail Processing Centre, South Central Letter Processing Plant Toronto\n"
                }
            ],
            "source": "toronto_venues = getNearbyVenues(names=toronto_data['Neighbourhood'],\n                                   latitudes=toronto_data['Latitude'],\n                                   longitudes=toronto_data['Longitude']\n                                  )"
        },
        {
            "cell_type": "code",
            "execution_count": 30,
            "metadata": {},
            "outputs": [
                {
                    "data": {
                        "text/html": "<div>\n<style scoped>\n    .dataframe tbody tr th:only-of-type {\n        vertical-align: middle;\n    }\n\n    .dataframe tbody tr th {\n        vertical-align: top;\n    }\n\n    .dataframe thead th {\n        text-align: right;\n    }\n</style>\n<table border=\"1\" class=\"dataframe\">\n  <thead>\n    <tr style=\"text-align: right;\">\n      <th></th>\n      <th>Neighbourhood</th>\n      <th>Neighbourhood Latitude</th>\n      <th>Neighbourhood Longitude</th>\n      <th>Venue</th>\n      <th>Venue Latitude</th>\n      <th>Venue Longitude</th>\n      <th>Venue Category</th>\n    </tr>\n  </thead>\n  <tbody>\n    <tr>\n      <th>0</th>\n      <td>The Beaches</td>\n      <td>43.676357</td>\n      <td>-79.293031</td>\n      <td>Glen Manor Ravine</td>\n      <td>43.676821</td>\n      <td>-79.293942</td>\n      <td>Trail</td>\n    </tr>\n    <tr>\n      <th>1</th>\n      <td>The Beaches</td>\n      <td>43.676357</td>\n      <td>-79.293031</td>\n      <td>The Big Carrot Natural Food Market</td>\n      <td>43.678879</td>\n      <td>-79.297734</td>\n      <td>Health Food Store</td>\n    </tr>\n    <tr>\n      <th>2</th>\n      <td>The Beaches</td>\n      <td>43.676357</td>\n      <td>-79.293031</td>\n      <td>Grover Pub and Grub</td>\n      <td>43.679181</td>\n      <td>-79.297215</td>\n      <td>Pub</td>\n    </tr>\n    <tr>\n      <th>3</th>\n      <td>The Beaches</td>\n      <td>43.676357</td>\n      <td>-79.293031</td>\n      <td>Upper Beaches</td>\n      <td>43.680563</td>\n      <td>-79.292869</td>\n      <td>Neighborhood</td>\n    </tr>\n    <tr>\n      <th>4</th>\n      <td>The Danforth West, Riverdale</td>\n      <td>43.679557</td>\n      <td>-79.352188</td>\n      <td>MenEssentials</td>\n      <td>43.677820</td>\n      <td>-79.351265</td>\n      <td>Cosmetics Shop</td>\n    </tr>\n  </tbody>\n</table>\n</div>",
                        "text/plain": "                  Neighbourhood  Neighbourhood Latitude  \\\n0                   The Beaches               43.676357   \n1                   The Beaches               43.676357   \n2                   The Beaches               43.676357   \n3                   The Beaches               43.676357   \n4  The Danforth West, Riverdale               43.679557   \n\n   Neighbourhood Longitude                               Venue  \\\n0               -79.293031                   Glen Manor Ravine   \n1               -79.293031  The Big Carrot Natural Food Market   \n2               -79.293031                 Grover Pub and Grub   \n3               -79.293031                       Upper Beaches   \n4               -79.352188                       MenEssentials   \n\n   Venue Latitude  Venue Longitude     Venue Category  \n0       43.676821       -79.293942              Trail  \n1       43.678879       -79.297734  Health Food Store  \n2       43.679181       -79.297215                Pub  \n3       43.680563       -79.292869       Neighborhood  \n4       43.677820       -79.351265     Cosmetics Shop  "
                    },
                    "execution_count": 30,
                    "metadata": {},
                    "output_type": "execute_result"
                }
            ],
            "source": "toronto_venues.head()"
        },
        {
            "cell_type": "code",
            "execution_count": 32,
            "metadata": {},
            "outputs": [
                {
                    "data": {
                        "text/html": "<div>\n<style scoped>\n    .dataframe tbody tr th:only-of-type {\n        vertical-align: middle;\n    }\n\n    .dataframe tbody tr th {\n        vertical-align: top;\n    }\n\n    .dataframe thead th {\n        text-align: right;\n    }\n</style>\n<table border=\"1\" class=\"dataframe\">\n  <thead>\n    <tr style=\"text-align: right;\">\n      <th></th>\n      <th>Neighbourhood Latitude</th>\n      <th>Neighbourhood Longitude</th>\n      <th>Venue</th>\n      <th>Venue Latitude</th>\n      <th>Venue Longitude</th>\n      <th>Venue Category</th>\n    </tr>\n    <tr>\n      <th>Neighbourhood</th>\n      <th></th>\n      <th></th>\n      <th></th>\n      <th></th>\n      <th></th>\n      <th></th>\n    </tr>\n  </thead>\n  <tbody>\n    <tr>\n      <th>Berczy Park</th>\n      <td>57</td>\n      <td>57</td>\n      <td>57</td>\n      <td>57</td>\n      <td>57</td>\n      <td>57</td>\n    </tr>\n    <tr>\n      <th>Brockton, Parkdale Village, Exhibition Place</th>\n      <td>24</td>\n      <td>24</td>\n      <td>24</td>\n      <td>24</td>\n      <td>24</td>\n      <td>24</td>\n    </tr>\n    <tr>\n      <th>Business reply mail Processing Centre, South Central Letter Processing Plant Toronto</th>\n      <td>18</td>\n      <td>18</td>\n      <td>18</td>\n      <td>18</td>\n      <td>18</td>\n      <td>18</td>\n    </tr>\n    <tr>\n      <th>CN Tower, King and Spadina, Railway Lands, Harbourfront West, Bathurst Quay, South Niagara, Island airport</th>\n      <td>17</td>\n      <td>17</td>\n      <td>17</td>\n      <td>17</td>\n      <td>17</td>\n      <td>17</td>\n    </tr>\n    <tr>\n      <th>Central Bay Street</th>\n      <td>63</td>\n      <td>63</td>\n      <td>63</td>\n      <td>63</td>\n      <td>63</td>\n      <td>63</td>\n    </tr>\n    <tr>\n      <th>Christie</th>\n      <td>16</td>\n      <td>16</td>\n      <td>16</td>\n      <td>16</td>\n      <td>16</td>\n      <td>16</td>\n    </tr>\n    <tr>\n      <th>Church and Wellesley</th>\n      <td>76</td>\n      <td>76</td>\n      <td>76</td>\n      <td>76</td>\n      <td>76</td>\n      <td>76</td>\n    </tr>\n    <tr>\n      <th>Commerce Court, Victoria Hotel</th>\n      <td>100</td>\n      <td>100</td>\n      <td>100</td>\n      <td>100</td>\n      <td>100</td>\n      <td>100</td>\n    </tr>\n    <tr>\n      <th>Davisville</th>\n      <td>34</td>\n      <td>34</td>\n      <td>34</td>\n      <td>34</td>\n      <td>34</td>\n      <td>34</td>\n    </tr>\n    <tr>\n      <th>Davisville North</th>\n      <td>8</td>\n      <td>8</td>\n      <td>8</td>\n      <td>8</td>\n      <td>8</td>\n      <td>8</td>\n    </tr>\n    <tr>\n      <th>Dufferin, Dovercourt Village</th>\n      <td>14</td>\n      <td>14</td>\n      <td>14</td>\n      <td>14</td>\n      <td>14</td>\n      <td>14</td>\n    </tr>\n    <tr>\n      <th>First Canadian Place, Underground city</th>\n      <td>100</td>\n      <td>100</td>\n      <td>100</td>\n      <td>100</td>\n      <td>100</td>\n      <td>100</td>\n    </tr>\n    <tr>\n      <th>Forest Hill North &amp; West, Forest Hill Road Park</th>\n      <td>4</td>\n      <td>4</td>\n      <td>4</td>\n      <td>4</td>\n      <td>4</td>\n      <td>4</td>\n    </tr>\n    <tr>\n      <th>Garden District, Ryerson</th>\n      <td>100</td>\n      <td>100</td>\n      <td>100</td>\n      <td>100</td>\n      <td>100</td>\n      <td>100</td>\n    </tr>\n    <tr>\n      <th>Harbourfront East, Union Station, Toronto Islands</th>\n      <td>100</td>\n      <td>100</td>\n      <td>100</td>\n      <td>100</td>\n      <td>100</td>\n      <td>100</td>\n    </tr>\n    <tr>\n      <th>High Park, The Junction South</th>\n      <td>24</td>\n      <td>24</td>\n      <td>24</td>\n      <td>24</td>\n      <td>24</td>\n      <td>24</td>\n    </tr>\n    <tr>\n      <th>India Bazaar, The Beaches West</th>\n      <td>21</td>\n      <td>21</td>\n      <td>21</td>\n      <td>21</td>\n      <td>21</td>\n      <td>21</td>\n    </tr>\n    <tr>\n      <th>Kensington Market, Chinatown, Grange Park</th>\n      <td>68</td>\n      <td>68</td>\n      <td>68</td>\n      <td>68</td>\n      <td>68</td>\n      <td>68</td>\n    </tr>\n    <tr>\n      <th>Lawrence Park</th>\n      <td>3</td>\n      <td>3</td>\n      <td>3</td>\n      <td>3</td>\n      <td>3</td>\n      <td>3</td>\n    </tr>\n    <tr>\n      <th>Little Portugal, Trinity</th>\n      <td>44</td>\n      <td>44</td>\n      <td>44</td>\n      <td>44</td>\n      <td>44</td>\n      <td>44</td>\n    </tr>\n    <tr>\n      <th>Moore Park, Summerhill East</th>\n      <td>3</td>\n      <td>3</td>\n      <td>3</td>\n      <td>3</td>\n      <td>3</td>\n      <td>3</td>\n    </tr>\n    <tr>\n      <th>North Toronto West,  Lawrence Park</th>\n      <td>17</td>\n      <td>17</td>\n      <td>17</td>\n      <td>17</td>\n      <td>17</td>\n      <td>17</td>\n    </tr>\n    <tr>\n      <th>Parkdale, Roncesvalles</th>\n      <td>14</td>\n      <td>14</td>\n      <td>14</td>\n      <td>14</td>\n      <td>14</td>\n      <td>14</td>\n    </tr>\n    <tr>\n      <th>Queen's Park, Ontario Provincial Government</th>\n      <td>34</td>\n      <td>34</td>\n      <td>34</td>\n      <td>34</td>\n      <td>34</td>\n      <td>34</td>\n    </tr>\n    <tr>\n      <th>Regent Park, Harbourfront</th>\n      <td>47</td>\n      <td>47</td>\n      <td>47</td>\n      <td>47</td>\n      <td>47</td>\n      <td>47</td>\n    </tr>\n    <tr>\n      <th>Richmond, Adelaide, King</th>\n      <td>100</td>\n      <td>100</td>\n      <td>100</td>\n      <td>100</td>\n      <td>100</td>\n      <td>100</td>\n    </tr>\n    <tr>\n      <th>Rosedale</th>\n      <td>4</td>\n      <td>4</td>\n      <td>4</td>\n      <td>4</td>\n      <td>4</td>\n      <td>4</td>\n    </tr>\n    <tr>\n      <th>Roselawn</th>\n      <td>2</td>\n      <td>2</td>\n      <td>2</td>\n      <td>2</td>\n      <td>2</td>\n      <td>2</td>\n    </tr>\n    <tr>\n      <th>Runnymede, Swansea</th>\n      <td>37</td>\n      <td>37</td>\n      <td>37</td>\n      <td>37</td>\n      <td>37</td>\n      <td>37</td>\n    </tr>\n    <tr>\n      <th>St. James Town</th>\n      <td>85</td>\n      <td>85</td>\n      <td>85</td>\n      <td>85</td>\n      <td>85</td>\n      <td>85</td>\n    </tr>\n    <tr>\n      <th>St. James Town, Cabbagetown</th>\n      <td>47</td>\n      <td>47</td>\n      <td>47</td>\n      <td>47</td>\n      <td>47</td>\n      <td>47</td>\n    </tr>\n    <tr>\n      <th>Stn A PO Boxes</th>\n      <td>98</td>\n      <td>98</td>\n      <td>98</td>\n      <td>98</td>\n      <td>98</td>\n      <td>98</td>\n    </tr>\n    <tr>\n      <th>Studio District</th>\n      <td>40</td>\n      <td>40</td>\n      <td>40</td>\n      <td>40</td>\n      <td>40</td>\n      <td>40</td>\n    </tr>\n    <tr>\n      <th>Summerhill West, Rathnelly, South Hill, Forest Hill SE, Deer Park</th>\n      <td>16</td>\n      <td>16</td>\n      <td>16</td>\n      <td>16</td>\n      <td>16</td>\n      <td>16</td>\n    </tr>\n    <tr>\n      <th>The Annex, North Midtown, Yorkville</th>\n      <td>20</td>\n      <td>20</td>\n      <td>20</td>\n      <td>20</td>\n      <td>20</td>\n      <td>20</td>\n    </tr>\n    <tr>\n      <th>The Beaches</th>\n      <td>4</td>\n      <td>4</td>\n      <td>4</td>\n      <td>4</td>\n      <td>4</td>\n      <td>4</td>\n    </tr>\n    <tr>\n      <th>The Danforth West, Riverdale</th>\n      <td>42</td>\n      <td>42</td>\n      <td>42</td>\n      <td>42</td>\n      <td>42</td>\n      <td>42</td>\n    </tr>\n    <tr>\n      <th>Toronto Dominion Centre, Design Exchange</th>\n      <td>100</td>\n      <td>100</td>\n      <td>100</td>\n      <td>100</td>\n      <td>100</td>\n      <td>100</td>\n    </tr>\n    <tr>\n      <th>University of Toronto, Harbord</th>\n      <td>36</td>\n      <td>36</td>\n      <td>36</td>\n      <td>36</td>\n      <td>36</td>\n      <td>36</td>\n    </tr>\n  </tbody>\n</table>\n</div>",
                        "text/plain": "                                                    Neighbourhood Latitude  \\\nNeighbourhood                                                                \nBerczy Park                                                             57   \nBrockton, Parkdale Village, Exhibition Place                            24   \nBusiness reply mail Processing Centre, South Ce...                      18   \nCN Tower, King and Spadina, Railway Lands, Harb...                      17   \nCentral Bay Street                                                      63   \nChristie                                                                16   \nChurch and Wellesley                                                    76   \nCommerce Court, Victoria Hotel                                         100   \nDavisville                                                              34   \nDavisville North                                                         8   \nDufferin, Dovercourt Village                                            14   \nFirst Canadian Place, Underground city                                 100   \nForest Hill North & West, Forest Hill Road Park                          4   \nGarden District, Ryerson                                               100   \nHarbourfront East, Union Station, Toronto Islands                      100   \nHigh Park, The Junction South                                           24   \nIndia Bazaar, The Beaches West                                          21   \nKensington Market, Chinatown, Grange Park                               68   \nLawrence Park                                                            3   \nLittle Portugal, Trinity                                                44   \nMoore Park, Summerhill East                                              3   \nNorth Toronto West,  Lawrence Park                                      17   \nParkdale, Roncesvalles                                                  14   \nQueen's Park, Ontario Provincial Government                             34   \nRegent Park, Harbourfront                                               47   \nRichmond, Adelaide, King                                               100   \nRosedale                                                                 4   \nRoselawn                                                                 2   \nRunnymede, Swansea                                                      37   \nSt. James Town                                                          85   \nSt. James Town, Cabbagetown                                             47   \nStn A PO Boxes                                                          98   \nStudio District                                                         40   \nSummerhill West, Rathnelly, South Hill, Forest ...                      16   \nThe Annex, North Midtown, Yorkville                                     20   \nThe Beaches                                                              4   \nThe Danforth West, Riverdale                                            42   \nToronto Dominion Centre, Design Exchange                               100   \nUniversity of Toronto, Harbord                                          36   \n\n                                                    Neighbourhood Longitude  \\\nNeighbourhood                                                                 \nBerczy Park                                                              57   \nBrockton, Parkdale Village, Exhibition Place                             24   \nBusiness reply mail Processing Centre, South Ce...                       18   \nCN Tower, King and Spadina, Railway Lands, Harb...                       17   \nCentral Bay Street                                                       63   \nChristie                                                                 16   \nChurch and Wellesley                                                     76   \nCommerce Court, Victoria Hotel                                          100   \nDavisville                                                               34   \nDavisville North                                                          8   \nDufferin, Dovercourt Village                                             14   \nFirst Canadian Place, Underground city                                  100   \nForest Hill North & West, Forest Hill Road Park                           4   \nGarden District, Ryerson                                                100   \nHarbourfront East, Union Station, Toronto Islands                       100   \nHigh Park, The Junction South                                            24   \nIndia Bazaar, The Beaches West                                           21   \nKensington Market, Chinatown, Grange Park                                68   \nLawrence Park                                                             3   \nLittle Portugal, Trinity                                                 44   \nMoore Park, Summerhill East                                               3   \nNorth Toronto West,  Lawrence Park                                       17   \nParkdale, Roncesvalles                                                   14   \nQueen's Park, Ontario Provincial Government                              34   \nRegent Park, Harbourfront                                                47   \nRichmond, Adelaide, King                                                100   \nRosedale                                                                  4   \nRoselawn                                                                  2   \nRunnymede, Swansea                                                       37   \nSt. James Town                                                           85   \nSt. James Town, Cabbagetown                                              47   \nStn A PO Boxes                                                           98   \nStudio District                                                          40   \nSummerhill West, Rathnelly, South Hill, Forest ...                       16   \nThe Annex, North Midtown, Yorkville                                      20   \nThe Beaches                                                               4   \nThe Danforth West, Riverdale                                             42   \nToronto Dominion Centre, Design Exchange                                100   \nUniversity of Toronto, Harbord                                           36   \n\n                                                    Venue  Venue Latitude  \\\nNeighbourhood                                                               \nBerczy Park                                            57              57   \nBrockton, Parkdale Village, Exhibition Place           24              24   \nBusiness reply mail Processing Centre, South Ce...     18              18   \nCN Tower, King and Spadina, Railway Lands, Harb...     17              17   \nCentral Bay Street                                     63              63   \nChristie                                               16              16   \nChurch and Wellesley                                   76              76   \nCommerce Court, Victoria Hotel                        100             100   \nDavisville                                             34              34   \nDavisville North                                        8               8   \nDufferin, Dovercourt Village                           14              14   \nFirst Canadian Place, Underground city                100             100   \nForest Hill North & West, Forest Hill Road Park         4               4   \nGarden District, Ryerson                              100             100   \nHarbourfront East, Union Station, Toronto Islands     100             100   \nHigh Park, The Junction South                          24              24   \nIndia Bazaar, The Beaches West                         21              21   \nKensington Market, Chinatown, Grange Park              68              68   \nLawrence Park                                           3               3   \nLittle Portugal, Trinity                               44              44   \nMoore Park, Summerhill East                             3               3   \nNorth Toronto West,  Lawrence Park                     17              17   \nParkdale, Roncesvalles                                 14              14   \nQueen's Park, Ontario Provincial Government            34              34   \nRegent Park, Harbourfront                              47              47   \nRichmond, Adelaide, King                              100             100   \nRosedale                                                4               4   \nRoselawn                                                2               2   \nRunnymede, Swansea                                     37              37   \nSt. James Town                                         85              85   \nSt. James Town, Cabbagetown                            47              47   \nStn A PO Boxes                                         98              98   \nStudio District                                        40              40   \nSummerhill West, Rathnelly, South Hill, Forest ...     16              16   \nThe Annex, North Midtown, Yorkville                    20              20   \nThe Beaches                                             4               4   \nThe Danforth West, Riverdale                           42              42   \nToronto Dominion Centre, Design Exchange              100             100   \nUniversity of Toronto, Harbord                         36              36   \n\n                                                    Venue Longitude  \\\nNeighbourhood                                                         \nBerczy Park                                                      57   \nBrockton, Parkdale Village, Exhibition Place                     24   \nBusiness reply mail Processing Centre, South Ce...               18   \nCN Tower, King and Spadina, Railway Lands, Harb...               17   \nCentral Bay Street                                               63   \nChristie                                                         16   \nChurch and Wellesley                                             76   \nCommerce Court, Victoria Hotel                                  100   \nDavisville                                                       34   \nDavisville North                                                  8   \nDufferin, Dovercourt Village                                     14   \nFirst Canadian Place, Underground city                          100   \nForest Hill North & West, Forest Hill Road Park                   4   \nGarden District, Ryerson                                        100   \nHarbourfront East, Union Station, Toronto Islands               100   \nHigh Park, The Junction South                                    24   \nIndia Bazaar, The Beaches West                                   21   \nKensington Market, Chinatown, Grange Park                        68   \nLawrence Park                                                     3   \nLittle Portugal, Trinity                                         44   \nMoore Park, Summerhill East                                       3   \nNorth Toronto West,  Lawrence Park                               17   \nParkdale, Roncesvalles                                           14   \nQueen's Park, Ontario Provincial Government                      34   \nRegent Park, Harbourfront                                        47   \nRichmond, Adelaide, King                                        100   \nRosedale                                                          4   \nRoselawn                                                          2   \nRunnymede, Swansea                                               37   \nSt. James Town                                                   85   \nSt. James Town, Cabbagetown                                      47   \nStn A PO Boxes                                                   98   \nStudio District                                                  40   \nSummerhill West, Rathnelly, South Hill, Forest ...               16   \nThe Annex, North Midtown, Yorkville                              20   \nThe Beaches                                                       4   \nThe Danforth West, Riverdale                                     42   \nToronto Dominion Centre, Design Exchange                        100   \nUniversity of Toronto, Harbord                                   36   \n\n                                                    Venue Category  \nNeighbourhood                                                       \nBerczy Park                                                     57  \nBrockton, Parkdale Village, Exhibition Place                    24  \nBusiness reply mail Processing Centre, South Ce...              18  \nCN Tower, King and Spadina, Railway Lands, Harb...              17  \nCentral Bay Street                                              63  \nChristie                                                        16  \nChurch and Wellesley                                            76  \nCommerce Court, Victoria Hotel                                 100  \nDavisville                                                      34  \nDavisville North                                                 8  \nDufferin, Dovercourt Village                                    14  \nFirst Canadian Place, Underground city                         100  \nForest Hill North & West, Forest Hill Road Park                  4  \nGarden District, Ryerson                                       100  \nHarbourfront East, Union Station, Toronto Islands              100  \nHigh Park, The Junction South                                   24  \nIndia Bazaar, The Beaches West                                  21  \nKensington Market, Chinatown, Grange Park                       68  \nLawrence Park                                                    3  \nLittle Portugal, Trinity                                        44  \nMoore Park, Summerhill East                                      3  \nNorth Toronto West,  Lawrence Park                              17  \nParkdale, Roncesvalles                                          14  \nQueen's Park, Ontario Provincial Government                     34  \nRegent Park, Harbourfront                                       47  \nRichmond, Adelaide, King                                       100  \nRosedale                                                         4  \nRoselawn                                                         2  \nRunnymede, Swansea                                              37  \nSt. James Town                                                  85  \nSt. James Town, Cabbagetown                                     47  \nStn A PO Boxes                                                  98  \nStudio District                                                 40  \nSummerhill West, Rathnelly, South Hill, Forest ...              16  \nThe Annex, North Midtown, Yorkville                             20  \nThe Beaches                                                      4  \nThe Danforth West, Riverdale                                    42  \nToronto Dominion Centre, Design Exchange                       100  \nUniversity of Toronto, Harbord                                  36  "
                    },
                    "execution_count": 32,
                    "metadata": {},
                    "output_type": "execute_result"
                }
            ],
            "source": "toronto_venues.groupby('Neighbourhood').count()"
        },
        {
            "cell_type": "code",
            "execution_count": 38,
            "metadata": {},
            "outputs": [
                {
                    "data": {
                        "text/plain": "(1637, 234)"
                    },
                    "execution_count": 38,
                    "metadata": {},
                    "output_type": "execute_result"
                }
            ],
            "source": "toronto_onehot = pd.get_dummies(toronto_venues[['Venue Category']], prefix=\"\", prefix_sep=\"\")\ntoronto_onehot.drop(['Neighborhood'],axis=1,inplace=True) \ntoronto_onehot.insert(loc=0, column='Neighbourhood', value=toronto_venues['Neighbourhood'] )\ntoronto_onehot.shape"
        },
        {
            "cell_type": "code",
            "execution_count": 40,
            "metadata": {},
            "outputs": [
                {
                    "data": {
                        "text/html": "<div>\n<style scoped>\n    .dataframe tbody tr th:only-of-type {\n        vertical-align: middle;\n    }\n\n    .dataframe tbody tr th {\n        vertical-align: top;\n    }\n\n    .dataframe thead th {\n        text-align: right;\n    }\n</style>\n<table border=\"1\" class=\"dataframe\">\n  <thead>\n    <tr style=\"text-align: right;\">\n      <th></th>\n      <th>Neighbourhood</th>\n      <th>Airport</th>\n      <th>Airport Food Court</th>\n      <th>Airport Gate</th>\n      <th>Airport Lounge</th>\n      <th>Airport Service</th>\n      <th>Airport Terminal</th>\n      <th>American Restaurant</th>\n      <th>Antique Shop</th>\n      <th>Aquarium</th>\n      <th>...</th>\n      <th>Theme Restaurant</th>\n      <th>Toy / Game Store</th>\n      <th>Trail</th>\n      <th>Train Station</th>\n      <th>Vegetarian / Vegan Restaurant</th>\n      <th>Video Game Store</th>\n      <th>Vietnamese Restaurant</th>\n      <th>Wine Bar</th>\n      <th>Women's Store</th>\n      <th>Yoga Studio</th>\n    </tr>\n  </thead>\n  <tbody>\n    <tr>\n      <th>0</th>\n      <td>Berczy Park</td>\n      <td>0.000000</td>\n      <td>0.000000</td>\n      <td>0.000000</td>\n      <td>0.000000</td>\n      <td>0.000000</td>\n      <td>0.000000</td>\n      <td>0.0</td>\n      <td>0.0</td>\n      <td>0.0</td>\n      <td>...</td>\n      <td>0.0</td>\n      <td>0.0</td>\n      <td>0.0</td>\n      <td>0.0</td>\n      <td>0.017544</td>\n      <td>0.0</td>\n      <td>0.0</td>\n      <td>0.000000</td>\n      <td>0.0</td>\n      <td>0.000000</td>\n    </tr>\n    <tr>\n      <th>1</th>\n      <td>Brockton, Parkdale Village, Exhibition Place</td>\n      <td>0.000000</td>\n      <td>0.000000</td>\n      <td>0.000000</td>\n      <td>0.000000</td>\n      <td>0.000000</td>\n      <td>0.000000</td>\n      <td>0.0</td>\n      <td>0.0</td>\n      <td>0.0</td>\n      <td>...</td>\n      <td>0.0</td>\n      <td>0.0</td>\n      <td>0.0</td>\n      <td>0.0</td>\n      <td>0.000000</td>\n      <td>0.0</td>\n      <td>0.0</td>\n      <td>0.000000</td>\n      <td>0.0</td>\n      <td>0.000000</td>\n    </tr>\n    <tr>\n      <th>2</th>\n      <td>Business reply mail Processing Centre, South C...</td>\n      <td>0.000000</td>\n      <td>0.000000</td>\n      <td>0.000000</td>\n      <td>0.000000</td>\n      <td>0.000000</td>\n      <td>0.000000</td>\n      <td>0.0</td>\n      <td>0.0</td>\n      <td>0.0</td>\n      <td>...</td>\n      <td>0.0</td>\n      <td>0.0</td>\n      <td>0.0</td>\n      <td>0.0</td>\n      <td>0.000000</td>\n      <td>0.0</td>\n      <td>0.0</td>\n      <td>0.000000</td>\n      <td>0.0</td>\n      <td>0.055556</td>\n    </tr>\n    <tr>\n      <th>3</th>\n      <td>CN Tower, King and Spadina, Railway Lands, Har...</td>\n      <td>0.058824</td>\n      <td>0.058824</td>\n      <td>0.058824</td>\n      <td>0.058824</td>\n      <td>0.176471</td>\n      <td>0.117647</td>\n      <td>0.0</td>\n      <td>0.0</td>\n      <td>0.0</td>\n      <td>...</td>\n      <td>0.0</td>\n      <td>0.0</td>\n      <td>0.0</td>\n      <td>0.0</td>\n      <td>0.000000</td>\n      <td>0.0</td>\n      <td>0.0</td>\n      <td>0.000000</td>\n      <td>0.0</td>\n      <td>0.000000</td>\n    </tr>\n    <tr>\n      <th>4</th>\n      <td>Central Bay Street</td>\n      <td>0.000000</td>\n      <td>0.000000</td>\n      <td>0.000000</td>\n      <td>0.000000</td>\n      <td>0.000000</td>\n      <td>0.000000</td>\n      <td>0.0</td>\n      <td>0.0</td>\n      <td>0.0</td>\n      <td>...</td>\n      <td>0.0</td>\n      <td>0.0</td>\n      <td>0.0</td>\n      <td>0.0</td>\n      <td>0.015873</td>\n      <td>0.0</td>\n      <td>0.0</td>\n      <td>0.015873</td>\n      <td>0.0</td>\n      <td>0.015873</td>\n    </tr>\n  </tbody>\n</table>\n<p>5 rows \u00d7 234 columns</p>\n</div>",
                        "text/plain": "                                       Neighbourhood   Airport  \\\n0                                        Berczy Park  0.000000   \n1       Brockton, Parkdale Village, Exhibition Place  0.000000   \n2  Business reply mail Processing Centre, South C...  0.000000   \n3  CN Tower, King and Spadina, Railway Lands, Har...  0.058824   \n4                                 Central Bay Street  0.000000   \n\n   Airport Food Court  Airport Gate  Airport Lounge  Airport Service  \\\n0            0.000000      0.000000        0.000000         0.000000   \n1            0.000000      0.000000        0.000000         0.000000   \n2            0.000000      0.000000        0.000000         0.000000   \n3            0.058824      0.058824        0.058824         0.176471   \n4            0.000000      0.000000        0.000000         0.000000   \n\n   Airport Terminal  American Restaurant  Antique Shop  Aquarium  ...  \\\n0          0.000000                  0.0           0.0       0.0  ...   \n1          0.000000                  0.0           0.0       0.0  ...   \n2          0.000000                  0.0           0.0       0.0  ...   \n3          0.117647                  0.0           0.0       0.0  ...   \n4          0.000000                  0.0           0.0       0.0  ...   \n\n   Theme Restaurant  Toy / Game Store  Trail  Train Station  \\\n0               0.0               0.0    0.0            0.0   \n1               0.0               0.0    0.0            0.0   \n2               0.0               0.0    0.0            0.0   \n3               0.0               0.0    0.0            0.0   \n4               0.0               0.0    0.0            0.0   \n\n   Vegetarian / Vegan Restaurant  Video Game Store  Vietnamese Restaurant  \\\n0                       0.017544               0.0                    0.0   \n1                       0.000000               0.0                    0.0   \n2                       0.000000               0.0                    0.0   \n3                       0.000000               0.0                    0.0   \n4                       0.015873               0.0                    0.0   \n\n   Wine Bar  Women's Store  Yoga Studio  \n0  0.000000            0.0     0.000000  \n1  0.000000            0.0     0.000000  \n2  0.000000            0.0     0.055556  \n3  0.000000            0.0     0.000000  \n4  0.015873            0.0     0.015873  \n\n[5 rows x 234 columns]"
                    },
                    "execution_count": 40,
                    "metadata": {},
                    "output_type": "execute_result"
                }
            ],
            "source": "toronto_grouped = toronto_onehot.groupby('Neighbourhood').mean().reset_index()\ntoronto_grouped.head()"
        },
        {
            "cell_type": "code",
            "execution_count": 41,
            "metadata": {},
            "outputs": [],
            "source": "def return_most_common_venues(row, num_top_venues):\n    row_categories = row.iloc[1:]\n    row_categories_sorted = row_categories.sort_values(ascending=False)\n    \n    return row_categories_sorted.index.values[0:num_top_venues]"
        },
        {
            "cell_type": "code",
            "execution_count": 47,
            "metadata": {},
            "outputs": [
                {
                    "data": {
                        "text/html": "<div>\n<style scoped>\n    .dataframe tbody tr th:only-of-type {\n        vertical-align: middle;\n    }\n\n    .dataframe tbody tr th {\n        vertical-align: top;\n    }\n\n    .dataframe thead th {\n        text-align: right;\n    }\n</style>\n<table border=\"1\" class=\"dataframe\">\n  <thead>\n    <tr style=\"text-align: right;\">\n      <th></th>\n      <th>Neighbourhood</th>\n      <th>1st Most Common Venue</th>\n      <th>2nd Most Common Venue</th>\n      <th>3rd Most Common Venue</th>\n      <th>4th Most Common Venue</th>\n      <th>5th Most Common Venue</th>\n      <th>6th Most Common Venue</th>\n      <th>7th Most Common Venue</th>\n      <th>8th Most Common Venue</th>\n      <th>9th Most Common Venue</th>\n      <th>10th Most Common Venue</th>\n    </tr>\n  </thead>\n  <tbody>\n    <tr>\n      <th>0</th>\n      <td>Berczy Park</td>\n      <td>Coffee Shop</td>\n      <td>Beer Bar</td>\n      <td>Cocktail Bar</td>\n      <td>Bakery</td>\n      <td>Seafood Restaurant</td>\n      <td>Farmers Market</td>\n      <td>Cheese Shop</td>\n      <td>Caf\u00e9</td>\n      <td>Restaurant</td>\n      <td>Italian Restaurant</td>\n    </tr>\n    <tr>\n      <th>1</th>\n      <td>Brockton, Parkdale Village, Exhibition Place</td>\n      <td>Caf\u00e9</td>\n      <td>Breakfast Spot</td>\n      <td>Nightclub</td>\n      <td>Performing Arts Venue</td>\n      <td>Coffee Shop</td>\n      <td>Convenience Store</td>\n      <td>Climbing Gym</td>\n      <td>Burrito Place</td>\n      <td>Restaurant</td>\n      <td>Italian Restaurant</td>\n    </tr>\n    <tr>\n      <th>2</th>\n      <td>Business reply mail Processing Centre, South C...</td>\n      <td>Light Rail Station</td>\n      <td>Yoga Studio</td>\n      <td>Smoke Shop</td>\n      <td>Auto Workshop</td>\n      <td>Brewery</td>\n      <td>Burrito Place</td>\n      <td>Butcher</td>\n      <td>Comic Shop</td>\n      <td>Farmers Market</td>\n      <td>Fast Food Restaurant</td>\n    </tr>\n    <tr>\n      <th>3</th>\n      <td>CN Tower, King and Spadina, Railway Lands, Har...</td>\n      <td>Airport Service</td>\n      <td>Airport Terminal</td>\n      <td>Airport</td>\n      <td>Bar</td>\n      <td>Coffee Shop</td>\n      <td>Plane</td>\n      <td>Rental Car Location</td>\n      <td>Sculpture Garden</td>\n      <td>Boat or Ferry</td>\n      <td>Boutique</td>\n    </tr>\n    <tr>\n      <th>4</th>\n      <td>Central Bay Street</td>\n      <td>Coffee Shop</td>\n      <td>Sandwich Place</td>\n      <td>Italian Restaurant</td>\n      <td>Caf\u00e9</td>\n      <td>Burger Joint</td>\n      <td>Japanese Restaurant</td>\n      <td>Bubble Tea Shop</td>\n      <td>Salad Place</td>\n      <td>Restaurant</td>\n      <td>Ramen Restaurant</td>\n    </tr>\n  </tbody>\n</table>\n</div>",
                        "text/plain": "                                       Neighbourhood 1st Most Common Venue  \\\n0                                        Berczy Park           Coffee Shop   \n1       Brockton, Parkdale Village, Exhibition Place                  Caf\u00e9   \n2  Business reply mail Processing Centre, South C...    Light Rail Station   \n3  CN Tower, King and Spadina, Railway Lands, Har...       Airport Service   \n4                                 Central Bay Street           Coffee Shop   \n\n  2nd Most Common Venue 3rd Most Common Venue  4th Most Common Venue  \\\n0              Beer Bar          Cocktail Bar                 Bakery   \n1        Breakfast Spot             Nightclub  Performing Arts Venue   \n2           Yoga Studio            Smoke Shop          Auto Workshop   \n3      Airport Terminal               Airport                    Bar   \n4        Sandwich Place    Italian Restaurant                   Caf\u00e9   \n\n  5th Most Common Venue 6th Most Common Venue 7th Most Common Venue  \\\n0    Seafood Restaurant        Farmers Market           Cheese Shop   \n1           Coffee Shop     Convenience Store          Climbing Gym   \n2               Brewery         Burrito Place               Butcher   \n3           Coffee Shop                 Plane   Rental Car Location   \n4          Burger Joint   Japanese Restaurant       Bubble Tea Shop   \n\n  8th Most Common Venue 9th Most Common Venue 10th Most Common Venue  \n0                  Caf\u00e9            Restaurant     Italian Restaurant  \n1         Burrito Place            Restaurant     Italian Restaurant  \n2            Comic Shop        Farmers Market   Fast Food Restaurant  \n3      Sculpture Garden         Boat or Ferry               Boutique  \n4           Salad Place            Restaurant       Ramen Restaurant  "
                    },
                    "execution_count": 47,
                    "metadata": {},
                    "output_type": "execute_result"
                }
            ],
            "source": "num_top_venues = 10\n\nindicators = ['st', 'nd', 'rd']\n\n# create columns according to number of top venues\ncolumns = ['Neighbourhood']\nfor ind in np.arange(num_top_venues):\n    try:\n        columns.append('{}{} Most Common Venue'.format(ind+1, indicators[ind]))\n    except:\n        columns.append('{}th Most Common Venue'.format(ind+1))\n\n# create a new dataframe\nneighborhoods_venues_sorted = pd.DataFrame(columns=columns)\nneighborhoods_venues_sorted['Neighbourhood'] = toronto_grouped['Neighbourhood']\n\nfor ind in np.arange(toronto_grouped.shape[0]):\n    neighborhoods_venues_sorted.iloc[ind, 1:] = return_most_common_venues(toronto_grouped.iloc[ind, :], num_top_venues)\n\nneighborhoods_venues_sorted.head()"
        },
        {
            "cell_type": "code",
            "execution_count": 49,
            "metadata": {},
            "outputs": [
                {
                    "data": {
                        "text/plain": "array([0, 0, 0, 0, 0, 0, 0, 0, 0, 0], dtype=int32)"
                    },
                    "execution_count": 49,
                    "metadata": {},
                    "output_type": "execute_result"
                }
            ],
            "source": "# set number of clusters\nkclusters = 5\n\ntoronto_grouped_clustering = toronto_grouped.drop('Neighbourhood', 1)\n\n# run k-means clustering\nkmeans = KMeans(n_clusters=kclusters, random_state=0).fit(toronto_grouped_clustering)\n\n# check cluster labels generated for each row in the dataframe\nkmeans.labels_[0:10]"
        },
        {
            "cell_type": "code",
            "execution_count": 55,
            "metadata": {},
            "outputs": [
                {
                    "data": {
                        "text/html": "<div>\n<style scoped>\n    .dataframe tbody tr th:only-of-type {\n        vertical-align: middle;\n    }\n\n    .dataframe tbody tr th {\n        vertical-align: top;\n    }\n\n    .dataframe thead th {\n        text-align: right;\n    }\n</style>\n<table border=\"1\" class=\"dataframe\">\n  <thead>\n    <tr style=\"text-align: right;\">\n      <th></th>\n      <th>Postalcode</th>\n      <th>Borough</th>\n      <th>Neighbourhood</th>\n      <th>Latitude</th>\n      <th>Longitude</th>\n      <th>Cluster Labels</th>\n      <th>1st Most Common Venue</th>\n      <th>2nd Most Common Venue</th>\n      <th>3rd Most Common Venue</th>\n      <th>4th Most Common Venue</th>\n      <th>5th Most Common Venue</th>\n      <th>6th Most Common Venue</th>\n      <th>7th Most Common Venue</th>\n      <th>8th Most Common Venue</th>\n      <th>9th Most Common Venue</th>\n      <th>10th Most Common Venue</th>\n    </tr>\n  </thead>\n  <tbody>\n    <tr>\n      <th>37</th>\n      <td>M4E</td>\n      <td>East Toronto</td>\n      <td>The Beaches</td>\n      <td>43.676357</td>\n      <td>-79.293031</td>\n      <td>0</td>\n      <td>Pub</td>\n      <td>Health Food Store</td>\n      <td>Trail</td>\n      <td>Yoga Studio</td>\n      <td>Doner Restaurant</td>\n      <td>Diner</td>\n      <td>Discount Store</td>\n      <td>Distribution Center</td>\n      <td>Dog Run</td>\n      <td>Dumpling Restaurant</td>\n    </tr>\n    <tr>\n      <th>41</th>\n      <td>M4K</td>\n      <td>East Toronto</td>\n      <td>The Danforth West, Riverdale</td>\n      <td>43.679557</td>\n      <td>-79.352188</td>\n      <td>0</td>\n      <td>Greek Restaurant</td>\n      <td>Coffee Shop</td>\n      <td>Italian Restaurant</td>\n      <td>Restaurant</td>\n      <td>Furniture / Home Store</td>\n      <td>Ice Cream Shop</td>\n      <td>Caribbean Restaurant</td>\n      <td>Pub</td>\n      <td>Lounge</td>\n      <td>Caf\u00e9</td>\n    </tr>\n    <tr>\n      <th>42</th>\n      <td>M4L</td>\n      <td>East Toronto</td>\n      <td>India Bazaar, The Beaches West</td>\n      <td>43.668999</td>\n      <td>-79.315572</td>\n      <td>0</td>\n      <td>Coffee Shop</td>\n      <td>Food &amp; Drink Shop</td>\n      <td>Brewery</td>\n      <td>Sandwich Place</td>\n      <td>Liquor Store</td>\n      <td>Burrito Place</td>\n      <td>Board Shop</td>\n      <td>Restaurant</td>\n      <td>Italian Restaurant</td>\n      <td>Fast Food Restaurant</td>\n    </tr>\n    <tr>\n      <th>43</th>\n      <td>M4M</td>\n      <td>East Toronto</td>\n      <td>Studio District</td>\n      <td>43.659526</td>\n      <td>-79.340923</td>\n      <td>0</td>\n      <td>Caf\u00e9</td>\n      <td>Coffee Shop</td>\n      <td>American Restaurant</td>\n      <td>Bakery</td>\n      <td>Brewery</td>\n      <td>Gastropub</td>\n      <td>Yoga Studio</td>\n      <td>Fish Market</td>\n      <td>Pet Store</td>\n      <td>Park</td>\n    </tr>\n    <tr>\n      <th>44</th>\n      <td>M4N</td>\n      <td>Central Toronto</td>\n      <td>Lawrence Park</td>\n      <td>43.728020</td>\n      <td>-79.388790</td>\n      <td>2</td>\n      <td>Park</td>\n      <td>Bus Line</td>\n      <td>Swim School</td>\n      <td>Yoga Studio</td>\n      <td>Diner</td>\n      <td>Event Space</td>\n      <td>Ethiopian Restaurant</td>\n      <td>Electronics Store</td>\n      <td>Eastern European Restaurant</td>\n      <td>Dumpling Restaurant</td>\n    </tr>\n  </tbody>\n</table>\n</div>",
                        "text/plain": "   Postalcode          Borough                   Neighbourhood   Latitude  \\\n37        M4E     East Toronto                     The Beaches  43.676357   \n41        M4K     East Toronto    The Danforth West, Riverdale  43.679557   \n42        M4L     East Toronto  India Bazaar, The Beaches West  43.668999   \n43        M4M     East Toronto                 Studio District  43.659526   \n44        M4N  Central Toronto                   Lawrence Park  43.728020   \n\n    Longitude  Cluster Labels 1st Most Common Venue 2nd Most Common Venue  \\\n37 -79.293031               0                   Pub     Health Food Store   \n41 -79.352188               0      Greek Restaurant           Coffee Shop   \n42 -79.315572               0           Coffee Shop     Food & Drink Shop   \n43 -79.340923               0                  Caf\u00e9           Coffee Shop   \n44 -79.388790               2                  Park              Bus Line   \n\n   3rd Most Common Venue 4th Most Common Venue   5th Most Common Venue  \\\n37                 Trail           Yoga Studio        Doner Restaurant   \n41    Italian Restaurant            Restaurant  Furniture / Home Store   \n42               Brewery        Sandwich Place            Liquor Store   \n43   American Restaurant                Bakery                 Brewery   \n44           Swim School           Yoga Studio                   Diner   \n\n   6th Most Common Venue 7th Most Common Venue 8th Most Common Venue  \\\n37                 Diner        Discount Store   Distribution Center   \n41        Ice Cream Shop  Caribbean Restaurant                   Pub   \n42         Burrito Place            Board Shop            Restaurant   \n43             Gastropub           Yoga Studio           Fish Market   \n44           Event Space  Ethiopian Restaurant     Electronics Store   \n\n          9th Most Common Venue 10th Most Common Venue  \n37                      Dog Run    Dumpling Restaurant  \n41                       Lounge                   Caf\u00e9  \n42           Italian Restaurant   Fast Food Restaurant  \n43                    Pet Store                   Park  \n44  Eastern European Restaurant    Dumpling Restaurant  "
                    },
                    "execution_count": 55,
                    "metadata": {},
                    "output_type": "execute_result"
                }
            ],
            "source": "#neighborhoods_venues_sorted.insert(0, 'Cluster Labels', kmeans.labels_)\n\ntoronto_merged = toronto_data\n\n# merge toronto_grouped with toronto_data to add latitude/longitude for each neighborhood\ntoronto_merged = toronto_merged.join(neighborhoods_venues_sorted.set_index('Neighbourhood'), on='Neighbourhood')\n\ntoronto_merged.head()"
        },
        {
            "cell_type": "code",
            "execution_count": 56,
            "metadata": {},
            "outputs": [
                {
                    "data": {
                        "text/html": "<div>\n<style scoped>\n    .dataframe tbody tr th:only-of-type {\n        vertical-align: middle;\n    }\n\n    .dataframe tbody tr th {\n        vertical-align: top;\n    }\n\n    .dataframe thead th {\n        text-align: right;\n    }\n</style>\n<table border=\"1\" class=\"dataframe\">\n  <thead>\n    <tr style=\"text-align: right;\">\n      <th></th>\n      <th>Cluster Labels</th>\n      <th>Neighbourhood</th>\n      <th>1st Most Common Venue</th>\n      <th>2nd Most Common Venue</th>\n      <th>3rd Most Common Venue</th>\n      <th>4th Most Common Venue</th>\n      <th>5th Most Common Venue</th>\n      <th>6th Most Common Venue</th>\n      <th>7th Most Common Venue</th>\n      <th>8th Most Common Venue</th>\n      <th>9th Most Common Venue</th>\n      <th>10th Most Common Venue</th>\n    </tr>\n  </thead>\n  <tbody>\n    <tr>\n      <th>0</th>\n      <td>0</td>\n      <td>Berczy Park</td>\n      <td>Coffee Shop</td>\n      <td>Beer Bar</td>\n      <td>Cocktail Bar</td>\n      <td>Bakery</td>\n      <td>Seafood Restaurant</td>\n      <td>Farmers Market</td>\n      <td>Cheese Shop</td>\n      <td>Caf\u00e9</td>\n      <td>Restaurant</td>\n      <td>Italian Restaurant</td>\n    </tr>\n    <tr>\n      <th>1</th>\n      <td>0</td>\n      <td>Brockton, Parkdale Village, Exhibition Place</td>\n      <td>Caf\u00e9</td>\n      <td>Breakfast Spot</td>\n      <td>Nightclub</td>\n      <td>Performing Arts Venue</td>\n      <td>Coffee Shop</td>\n      <td>Convenience Store</td>\n      <td>Climbing Gym</td>\n      <td>Burrito Place</td>\n      <td>Restaurant</td>\n      <td>Italian Restaurant</td>\n    </tr>\n    <tr>\n      <th>2</th>\n      <td>0</td>\n      <td>Business reply mail Processing Centre, South C...</td>\n      <td>Light Rail Station</td>\n      <td>Yoga Studio</td>\n      <td>Smoke Shop</td>\n      <td>Auto Workshop</td>\n      <td>Brewery</td>\n      <td>Burrito Place</td>\n      <td>Butcher</td>\n      <td>Comic Shop</td>\n      <td>Farmers Market</td>\n      <td>Fast Food Restaurant</td>\n    </tr>\n    <tr>\n      <th>3</th>\n      <td>0</td>\n      <td>CN Tower, King and Spadina, Railway Lands, Har...</td>\n      <td>Airport Service</td>\n      <td>Airport Terminal</td>\n      <td>Airport</td>\n      <td>Bar</td>\n      <td>Coffee Shop</td>\n      <td>Plane</td>\n      <td>Rental Car Location</td>\n      <td>Sculpture Garden</td>\n      <td>Boat or Ferry</td>\n      <td>Boutique</td>\n    </tr>\n    <tr>\n      <th>4</th>\n      <td>0</td>\n      <td>Central Bay Street</td>\n      <td>Coffee Shop</td>\n      <td>Sandwich Place</td>\n      <td>Italian Restaurant</td>\n      <td>Caf\u00e9</td>\n      <td>Burger Joint</td>\n      <td>Japanese Restaurant</td>\n      <td>Bubble Tea Shop</td>\n      <td>Salad Place</td>\n      <td>Restaurant</td>\n      <td>Ramen Restaurant</td>\n    </tr>\n  </tbody>\n</table>\n</div>",
                        "text/plain": "   Cluster Labels                                      Neighbourhood  \\\n0               0                                        Berczy Park   \n1               0       Brockton, Parkdale Village, Exhibition Place   \n2               0  Business reply mail Processing Centre, South C...   \n3               0  CN Tower, King and Spadina, Railway Lands, Har...   \n4               0                                 Central Bay Street   \n\n  1st Most Common Venue 2nd Most Common Venue 3rd Most Common Venue  \\\n0           Coffee Shop              Beer Bar          Cocktail Bar   \n1                  Caf\u00e9        Breakfast Spot             Nightclub   \n2    Light Rail Station           Yoga Studio            Smoke Shop   \n3       Airport Service      Airport Terminal               Airport   \n4           Coffee Shop        Sandwich Place    Italian Restaurant   \n\n   4th Most Common Venue 5th Most Common Venue 6th Most Common Venue  \\\n0                 Bakery    Seafood Restaurant        Farmers Market   \n1  Performing Arts Venue           Coffee Shop     Convenience Store   \n2          Auto Workshop               Brewery         Burrito Place   \n3                    Bar           Coffee Shop                 Plane   \n4                   Caf\u00e9          Burger Joint   Japanese Restaurant   \n\n  7th Most Common Venue 8th Most Common Venue 9th Most Common Venue  \\\n0           Cheese Shop                  Caf\u00e9            Restaurant   \n1          Climbing Gym         Burrito Place            Restaurant   \n2               Butcher            Comic Shop        Farmers Market   \n3   Rental Car Location      Sculpture Garden         Boat or Ferry   \n4       Bubble Tea Shop           Salad Place            Restaurant   \n\n  10th Most Common Venue  \n0     Italian Restaurant  \n1     Italian Restaurant  \n2   Fast Food Restaurant  \n3               Boutique  \n4       Ramen Restaurant  "
                    },
                    "execution_count": 56,
                    "metadata": {},
                    "output_type": "execute_result"
                }
            ],
            "source": "neighborhoods_venues_sorted.head()"
        },
        {
            "cell_type": "code",
            "execution_count": null,
            "metadata": {},
            "outputs": [],
            "source": ""
        }
    ],
    "metadata": {
        "kernelspec": {
            "display_name": "Python 3.6",
            "language": "python",
            "name": "python3"
        },
        "language_info": {
            "codemirror_mode": {
                "name": "ipython",
                "version": 3
            },
            "file_extension": ".py",
            "mimetype": "text/x-python",
            "name": "python",
            "nbconvert_exporter": "python",
            "pygments_lexer": "ipython3",
            "version": "3.6.9"
        }
    },
    "nbformat": 4,
    "nbformat_minor": 1
}